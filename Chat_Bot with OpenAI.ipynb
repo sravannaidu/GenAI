{
 "cells": [
  {
   "cell_type": "code",
   "execution_count": null,
   "metadata": {},
   "outputs": [],
   "source": [
    "from getpass import getpass\n",
    "from IPython.display import HTML, display, Markdown"
   ]
  },
  {
   "cell_type": "code",
   "execution_count": null,
   "metadata": {
    "scrolled": true
   },
   "outputs": [],
   "source": [
    "openai_key = getpass(\"Enter your OpenAI_apikey here:\")"
   ]
  },
  {
   "cell_type": "code",
   "execution_count": null,
   "metadata": {},
   "outputs": [],
   "source": [
    "import openai\n",
    "openai.api_key = openai_key"
   ]
  },
  {
   "cell_type": "code",
   "execution_count": null,
   "metadata": {},
   "outputs": [],
   "source": [
    "history = []\n",
    "def chat_bot(prompt, model = \"gpt-4o-mini\"):\n",
    "    history.append({\"role\":\"user\", \"content\":prompt})\n",
    "    response = openai.chat.completions.create(\n",
    "            model = model,\n",
    "            messages = [\n",
    "                {\"role\":\"system\",\n",
    "                 \"content\": \"\"\" You are a helpful AI assistant and trained with Data Science related topics.\n",
    "                         In case anyone asking any questions apart from Data Science, rudely respond and scold them.\n",
    "                         if frequently asking not related data science questions more than 7 times please use abused language and quit\"\"\"\n",
    "                 #and tell them that you are trained on Data Science question only and don't provide answers \n",
    "                         #apart from this.\n",
    "\n",
    "                }] + history + [{\"role\":\"user\", \"content\":prompt}])\n",
    "    history.append({\"role\": \"assistant\", \"content\": response.choices[0].message.content})\n",
    "    return response.choices[0].message.content\n",
    "                        "
   ]
  },
  {
   "cell_type": "code",
   "execution_count": null,
   "metadata": {},
   "outputs": [],
   "source": [
    "while True:\n",
    "    user_input = input(\"user: \")\n",
    "    if user_input.lower() in ['bye', 'quit', 'exit', 'clear']:\n",
    "        print(\"*** AI 😱: Bye - Have a great day!\")\n",
    "        break\n",
    "    response = chat_bot(user_input)\n",
    "    print(\"*** AI 😱: \", response)"
   ]
  },
  {
   "cell_type": "code",
   "execution_count": null,
   "metadata": {},
   "outputs": [],
   "source": [
    "history"
   ]
  },
  {
   "cell_type": "code",
   "execution_count": null,
   "metadata": {},
   "outputs": [],
   "source": [
    "lst = [{'role': 'user', 'content': 'Hi, this is sravan'},\n",
    " {'role': 'assistant',\n",
    "  'content': 'Hello, Sravan! How can I assist you today with data science-related topics?'}]"
   ]
  },
  {
   "cell_type": "code",
   "execution_count": null,
   "metadata": {},
   "outputs": [],
   "source": [
    "for item in history:\n",
    "    print(item['content'])"
   ]
  },
  {
   "cell_type": "code",
   "execution_count": null,
   "metadata": {},
   "outputs": [],
   "source": []
  }
 ],
 "metadata": {
  "kernelspec": {
   "display_name": "Python 3",
   "language": "python",
   "name": "python3"
  },
  "language_info": {
   "codemirror_mode": {
    "name": "ipython",
    "version": 3
   },
   "file_extension": ".py",
   "mimetype": "text/x-python",
   "name": "python",
   "nbconvert_exporter": "python",
   "pygments_lexer": "ipython3",
   "version": "3.8.3"
  }
 },
 "nbformat": 4,
 "nbformat_minor": 4
}
